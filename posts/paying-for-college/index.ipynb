{
 "cells": [
  {
   "cell_type": "markdown",
   "metadata": {},
   "source": [
    "My son is two and my daughter will be here any day now. My wife and I have been trying to figure out how to pay for daycare for two kids, each one costing about the same as another mortgage payment. Just to stress myself out some more, I decided also to run a quick estimate of how much I should be saving to fund my children's college education. As it turns out, it's not much different than paying for daycare.\n",
    "\n",
    "I'm using pandas, though it's not really necissary; numpy is probably all that's needed. I'm also pulling in matplotlib for pretty graphics. "
   ]
  },
  {
   "cell_type": "code",
   "execution_count": 1,
   "metadata": {
    "collapsed": true
   },
   "outputs": [],
   "source": [
    "%matplotlib inline\n",
    "import pandas as pd\n",
    "import numpy as np\n",
    "import matplotlib.pyplot as plt"
   ]
  },
  {
   "cell_type": "markdown",
   "metadata": {},
   "source": [
    "I'm using BU, where I currently work, as a reference. [It's roughly](http://www.bu.edu/admissions/apply/costs-aid-scholarships/tuition-and-fees/) $48,500 for tuition this year and $14,500 for room and board. If I keep working there and my children are admitted (and college is still a thing people do in 2030), they'll get a 90% discount. Not bad, but that's a lot of if's. I've seen quotes of 6-7% growth rate for tuition a year, but I can't imagine that will continue. There are a bunch of factors controlling that growth rate, from the ammount of government financial aid provided to the BabyBoomer's Super cycle that's given investments a boost. The higher-ups have already decided they can't really charge much more and don't want to increase the student population. So I'll use a slighlty smaller growth rate of 5% for tuition and perhapse a slightly higher rate 3% for room and board (my guess is that inflation will be closer to 2%). "
   ]
  },
  {
   "cell_type": "code",
   "execution_count": 2,
   "metadata": {
    "collapsed": false
   },
   "outputs": [],
   "source": [
    "base_tuition = 48500\n",
    "base_housing = 14500\n",
    "\n",
    "rate_tuition = 0.05\n",
    "rate_housing = 0.03\n",
    "\n",
    "year = np.arange(22)\n",
    "abs_year = 2013 + year"
   ]
  },
  {
   "cell_type": "markdown",
   "metadata": {},
   "source": [
    "I have a simple method to calculate compounding growth on an annual basis that calls numpy's power method, which will nicely broadcast either the base of the exponent to match the other. I then use a mask to only account for the years I'll actually be paying. To reduce my chance of a stroke, I'm only looking at one childs cost. My index is the age of my son, and going forward I'll assume I haven't saved anything yet."
   ]
  },
  {
   "cell_type": "code",
   "execution_count": 3,
   "metadata": {
    "collapsed": false
   },
   "outputs": [
    {
     "name": "stdout",
     "output_type": "stream",
     "text": [
      "    abs_year       housing        tuition\n",
      "0       2013      0.000000       0.000000\n",
      "1       2014      0.000000       0.000000\n",
      "2       2015      0.000000       0.000000\n",
      "3       2016      0.000000       0.000000\n",
      "4       2017      0.000000       0.000000\n",
      "5       2018      0.000000       0.000000\n",
      "6       2019      0.000000       0.000000\n",
      "7       2020      0.000000       0.000000\n",
      "8       2021      0.000000       0.000000\n",
      "9       2022      0.000000       0.000000\n",
      "10      2023      0.000000       0.000000\n",
      "11      2024      0.000000       0.000000\n",
      "12      2025      0.000000       0.000000\n",
      "13      2026      0.000000       0.000000\n",
      "14      2027      0.000000       0.000000\n",
      "15      2028      0.000000       0.000000\n",
      "16      2029      0.000000       0.000000\n",
      "17      2030      0.000000       0.000000\n",
      "18      2031  23268.243367  105869.417537\n",
      "19      2032  23966.290668  111162.888413\n",
      "20      2033  24685.279388  116721.032834\n",
      "21      2034  25425.837770  122557.084476\n"
     ]
    }
   ],
   "source": [
    "def calc_growth(initial, rate, start, nvals):\n",
    "    return np.power(1+rate, np.arange(-start, nvals-start)) * initial \n",
    "\n",
    "yearly_tuition = calc_growth(base_tuition, rate_tuition, 2, 22)\n",
    "yearly_housing = calc_growth(base_housing, rate_housing, 2, 22)\n",
    "mask = np.zeros_like(year)\n",
    "mask[18:22] = 1\n",
    "\n",
    "df = pd.DataFrame(dict(\n",
    "    abs_year = abs_year,\n",
    "    tuition = yearly_tuition * mask,\n",
    "    housing = yearly_housing * mask), index=year)\n",
    "print(df)"
   ]
  },
  {
   "cell_type": "code",
   "execution_count": 4,
   "metadata": {
    "collapsed": false
   },
   "outputs": [
    {
     "name": "stdout",
     "output_type": "stream",
     "text": [
      "total cost  = $ 553656\n"
     ]
    }
   ],
   "source": [
    "df['expenses'] = df.tuition + df.housing\n",
    "print(\"total cost  = $ %.0f\"%(df.expenses.sum()))"
   ]
  },
  {
   "cell_type": "markdown",
   "metadata": {},
   "source": [
    "As you can see above, I'll be paying over a million dollars to fund my children's education. How much do I need to start saving today to make that possible? Well let's say my investments return 6%, which is high or low depending on what assets I buy, when I shift the mix of assets, and how lucky I am. Next I'll treat each year's costs like a loan that I'll need to pay a bit of each year for the next 16 years, and that's how I'll figure the annual (and montly) payments."
   ]
  },
  {
   "cell_type": "code",
   "execution_count": 5,
   "metadata": {
    "collapsed": false
   },
   "outputs": [
    {
     "name": "stdout",
     "output_type": "stream",
     "text": [
      "I should be saving today: $18779 annually, or 1564.88 monthly\n"
     ]
    }
   ],
   "source": [
    "investment_growth_rate = 0.06\n",
    "\n",
    "total_payment = np.zeros_like(df.tuition)\n",
    "start = 2\n",
    "\n",
    "for index in range(18,22):\n",
    "    total_payment[start:index-1] -= np.pmt(investment_growth_rate, index-start, 0, df.expenses[index])\n",
    "\n",
    "print(\"I should be saving today: $%.0f annually, or %.2f monthly\"%(total_payment[start], total_payment[start]/12))\n",
    "df['payments'] = total_payment"
   ]
  },
  {
   "cell_type": "markdown",
   "metadata": {},
   "source": [
    "Now I'll simulate saving that much and withdrawing the tuition + room & board at the appropriate time."
   ]
  },
  {
   "cell_type": "code",
   "execution_count": 6,
   "metadata": {
    "collapsed": false
   },
   "outputs": [
    {
     "name": "stdout",
     "output_type": "stream",
     "text": [
      "account ending balance: $15230\n"
     ]
    }
   ],
   "source": [
    "account = [0, 0]\n",
    "for i in range(2,22):\n",
    "    account.append((account[-1] + df.payments[i] - df.expenses[i]) * ( 1 + investment_growth_rate))\n",
    "df['account'] = account\n",
    "print('account ending balance: $%.0f'%(df.account.values[-1]))"
   ]
  },
  {
   "cell_type": "markdown",
   "metadata": {},
   "source": [
    "Oops, I'm off by $15K, but I'm ok with that (not really it's driving me bonkers because I can't figure out why). Let's just call that the cost of all the other expenses, books, etc. Oh, and here's the pretty graphic:"
   ]
  },
  {
   "cell_type": "code",
   "execution_count": 7,
   "metadata": {
    "collapsed": false
   },
   "outputs": [
    {
     "data": {
      "image/png": "[encoded data removed]",
      "text/plain": [
       "<matplotlib.figure.Figure at 0x7f5324a36e50>"
      ]
     },
     "metadata": {},
     "output_type": "display_data"
    }
   ],
   "source": [
    "plt.bar(df.abs_year, df.account, label='balance', color='blue', align='center')\n",
    "plt.bar(df.abs_year, df.payments, label='deposits', color='green', align='center')\n",
    "plt.bar(df.abs_year, -df.expenses, label='expenses', color='red', align='center')\n",
    "plt.legend(loc='upper left')\n",
    "_ = plt.ylim(-175000, 550000)"
   ]
  },
  {
   "cell_type": "markdown",
   "metadata": {},
   "source": [
    "So $1.5K a month, that's not much more than full time daycare. The problem I face now is I have another 3 years of daycare to pay and I'm having trouble finding the money to even do that. \n",
    "\n",
    "Now this is just a rough estimate, and there's much better things I can do. I can model a distributition of investment gains. I can run through different investment scenarios. I can model a variable deposit rate; maybe some  (probably most) years I won't be able to cover the ammount I should be saving. I could also look into what the tax implications are for saving outside a tax sheltered account, which would hedge for not going to college. It's probably silly to think that way, because college is increasingly important for people to make a decent wage these days. But I like the idea of keeping track of a non-zero chance of no college. "
   ]
  }
 ],
 "metadata": {
  "kernelspec": {
   "display_name": "Python 2",
   "language": "python",
   "name": "python2"
  },
  "language_info": {
   "codemirror_mode": {
    "name": "ipython",
    "version": 2
   },
   "file_extension": ".py",
   "mimetype": "text/x-python",
   "name": "python",
   "nbconvert_exporter": "python",
   "pygments_lexer": "ipython2",
   "version": "2.7.10"
  }
 },
 "nbformat": 4,
 "nbformat_minor": 0
}
