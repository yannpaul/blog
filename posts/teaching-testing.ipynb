{
 "cells": [
  {
   "cell_type": "markdown",
   "metadata": {
    "collapsed": false
   },
   "source": [
    "I've had a \"Testing Python Code\" tutorial on the back burner for quite some time. Over and over again I read how it's essential to have tests and particularly high quality tests. Basically I don't need to create a tutorial and I would only have one to provide BU researchers with a live body to pose questions. Ned Batchelder has been presenting [a wonderful tutorial](http://nedbatchelder.com/text/test0.html) about why and how you might test your code, particularly python code. He's also the maintainer of `coverage`, an essential tool to check if you've actually tested every nook and crany. His tutorial is great in video and static form. \n",
    "\n",
    "I've dredged up this particular \"wouldn't it be great if I presented about this\"-tutorial because I've only recently really played with `doctest`. `doctest` is a utility that searches through your docs and doc strings for lines that look like an interactive python session and executes those lines. If the output is consistant, the tests passes. This is the tool for you if you are organized enough to write your docs before you write your tests before you write you code.\n",
    "\n",
    "How's it work? Well take this example:"
   ]
  },
  {
   "cell_type": "code",
   "execution_count": 1,
   "metadata": {
    "collapsed": false
   },
   "outputs": [
    {
     "name": "stdout",
     "output_type": "stream",
     "text": [
      "Writing phone_how_to.rst\n"
     ]
    }
   ],
   "source": [
    "%%file phone_how_to.rst\n",
    "\n",
    "This is the docs for my phone number api. \n",
    "\n",
    "    >>> from phones import PhoneNumber\n",
    "\n",
    "To create a number, you just provide it as a string or integer \n",
    "\n",
    "    >>> PhoneNumber(1112223333, 'home')\n",
    "    [home] (111) 222-3333\n",
    "    >>> PhoneNumber(\"1112223333\", 'home')\n",
    "    [home] (111) 222-3333\n",
    "    \n",
    "You can also add the optional '1' at the beginning:\n",
    "    \n",
    "    >>> PhoneNumber(\"11112223333\", 'home')\n",
    "    [home] (111) 222-3333\n",
    "    \n",
    "Parenthases, dashes or spaces are ignored:    \n",
    "\n",
    "    >>> number = PhoneNumber(\"111-222-3333\", 'home')\n",
    "    >>> number\n",
    "    [home] (111) 222-3333\n",
    "    \n",
    "If for any reason you need the raw number, and not the string representation, it's available like so:\n",
    "\n",
    "    >>> number.raw_number\n",
    "    '1112223333'"
   ]
  },
  {
   "cell_type": "markdown",
   "metadata": {},
   "source": [
    "Now to run doc test on this code, you run the doctest module as a main script with the '-m' flag. The following is completely broken because the code is not yet written. "
   ]
  },
  {
   "cell_type": "code",
   "execution_count": 2,
   "metadata": {
    "collapsed": false
   },
   "outputs": [
    {
     "name": "stdout",
     "output_type": "stream",
     "text": [
      "Trying:\r\n",
      "    from phones import PhoneNumber\r\n",
      "Expecting nothing\r\n",
      "**********************************************************************\r\n",
      "File \"phone_how_to.rst\", line 4, in phone_how_to.rst\r\n",
      "Failed example:\r\n",
      "    from phones import PhoneNumber\r\n",
      "Exception raised:\r\n",
      "    Traceback (most recent call last):\r\n",
      "      File \"/home/yannpaul/project/blog/blog_env/lib/python2.7/doctest.py\", line 1315, in __run\r\n",
      "        compileflags, 1) in test.globs\r\n",
      "      File \"<doctest phone_how_to.rst[0]>\", line 1, in <module>\r\n",
      "        from phones import PhoneNumber\r\n",
      "    ImportError: No module named phones\r\n",
      "Trying:\r\n",
      "    PhoneNumber(1112223333, 'home')\r\n",
      "Expecting:\r\n",
      "    [home] (111) 222-3333\r\n",
      "**********************************************************************\r\n",
      "File \"phone_how_to.rst\", line 8, in phone_how_to.rst\r\n",
      "Failed example:\r\n",
      "    PhoneNumber(1112223333, 'home')\r\n",
      "Exception raised:\r\n",
      "    Traceback (most recent call last):\r\n",
      "      File \"/home/yannpaul/project/blog/blog_env/lib/python2.7/doctest.py\", line 1315, in __run\r\n",
      "        compileflags, 1) in test.globs\r\n",
      "      File \"<doctest phone_how_to.rst[1]>\", line 1, in <module>\r\n",
      "        PhoneNumber(1112223333, 'home')\r\n",
      "    NameError: name 'PhoneNumber' is not defined\r\n",
      "Trying:\r\n",
      "    PhoneNumber(\"1112223333\", 'home')\r\n",
      "Expecting:\r\n",
      "    [home] (111) 222-3333\r\n",
      "**********************************************************************\r\n",
      "File \"phone_how_to.rst\", line 10, in phone_how_to.rst\r\n",
      "Failed example:\r\n",
      "    PhoneNumber(\"1112223333\", 'home')\r\n",
      "Exception raised:\r\n",
      "    Traceback (most recent call last):\r\n",
      "      File \"/home/yannpaul/project/blog/blog_env/lib/python2.7/doctest.py\", line 1315, in __run\r\n",
      "        compileflags, 1) in test.globs\r\n",
      "      File \"<doctest phone_how_to.rst[2]>\", line 1, in <module>\r\n",
      "        PhoneNumber(\"1112223333\", 'home')\r\n",
      "    NameError: name 'PhoneNumber' is not defined\r\n",
      "Trying:\r\n",
      "    PhoneNumber(\"11112223333\", 'home')\r\n",
      "Expecting:\r\n",
      "    [home] (111) 222-3333\r\n",
      "**********************************************************************\r\n",
      "File \"phone_how_to.rst\", line 15, in phone_how_to.rst\r\n",
      "Failed example:\r\n",
      "    PhoneNumber(\"11112223333\", 'home')\r\n",
      "Exception raised:\r\n",
      "    Traceback (most recent call last):\r\n",
      "      File \"/home/yannpaul/project/blog/blog_env/lib/python2.7/doctest.py\", line 1315, in __run\r\n",
      "        compileflags, 1) in test.globs\r\n",
      "      File \"<doctest phone_how_to.rst[3]>\", line 1, in <module>\r\n",
      "        PhoneNumber(\"11112223333\", 'home')\r\n",
      "    NameError: name 'PhoneNumber' is not defined\r\n",
      "Trying:\r\n",
      "    number = PhoneNumber(\"111-222-3333\", 'home')\r\n",
      "Expecting nothing\r\n",
      "**********************************************************************\r\n",
      "File \"phone_how_to.rst\", line 20, in phone_how_to.rst\r\n",
      "Failed example:\r\n",
      "    number = PhoneNumber(\"111-222-3333\", 'home')\r\n",
      "Exception raised:\r\n",
      "    Traceback (most recent call last):\r\n",
      "      File \"/home/yannpaul/project/blog/blog_env/lib/python2.7/doctest.py\", line 1315, in __run\r\n",
      "        compileflags, 1) in test.globs\r\n",
      "      File \"<doctest phone_how_to.rst[4]>\", line 1, in <module>\r\n",
      "        number = PhoneNumber(\"111-222-3333\", 'home')\r\n",
      "    NameError: name 'PhoneNumber' is not defined\r\n",
      "Trying:\r\n",
      "    number\r\n",
      "Expecting:\r\n",
      "    [home] (111) 222-3333\r\n",
      "**********************************************************************\r\n",
      "File \"phone_how_to.rst\", line 21, in phone_how_to.rst\r\n",
      "Failed example:\r\n",
      "    number\r\n",
      "Exception raised:\r\n",
      "    Traceback (most recent call last):\r\n",
      "      File \"/home/yannpaul/project/blog/blog_env/lib/python2.7/doctest.py\", line 1315, in __run\r\n",
      "        compileflags, 1) in test.globs\r\n",
      "      File \"<doctest phone_how_to.rst[5]>\", line 1, in <module>\r\n",
      "        number\r\n",
      "    NameError: name 'number' is not defined\r\n",
      "Trying:\r\n",
      "    number.raw_number\r\n",
      "Expecting:\r\n",
      "    '1112223333'\r\n",
      "**********************************************************************\r\n",
      "File \"phone_how_to.rst\", line 26, in phone_how_to.rst\r\n",
      "Failed example:\r\n",
      "    number.raw_number\r\n",
      "Exception raised:\r\n",
      "    Traceback (most recent call last):\r\n",
      "      File \"/home/yannpaul/project/blog/blog_env/lib/python2.7/doctest.py\", line 1315, in __run\r\n",
      "        compileflags, 1) in test.globs\r\n",
      "      File \"<doctest phone_how_to.rst[6]>\", line 1, in <module>\r\n",
      "        number.raw_number\r\n",
      "    NameError: name 'number' is not defined\r\n",
      "**********************************************************************\r\n",
      "1 items had failures:\r\n",
      "   7 of   7 in phone_how_to.rst\r\n",
      "7 tests in 1 items.\r\n",
      "0 passed and 7 failed.\r\n",
      "***Test Failed*** 7 failures.\r\n"
     ]
    }
   ],
   "source": [
    "!python -m doctest -v phone_how_to.rst"
   ]
  },
  {
   "cell_type": "markdown",
   "metadata": {},
   "source": [
    "Now let's write the code:"
   ]
  },
  {
   "cell_type": "code",
   "execution_count": 3,
   "metadata": {
    "collapsed": false
   },
   "outputs": [
    {
     "name": "stdout",
     "output_type": "stream",
     "text": [
      "Writing phones.py\n"
     ]
    }
   ],
   "source": [
    "%%file phones.py\n",
    "from __future__ import print_function\n",
    "\n",
    "\n",
    "class NeedAreaCode(Exception):\n",
    "    \"\"\"Name says it all\"\"\"\n",
    "    pass\n",
    "\n",
    "\n",
    "class InvalidePhoneNumber(Exception):\n",
    "    \"\"\"When the number just has the wrong digits\"\"\"\n",
    "    pass\n",
    "\n",
    "\n",
    "class PhoneNumber(object):\n",
    "    \"\"\"\n",
    "    A basic phone number class, with some validation for area code and length.\n",
    "    \n",
    "    >>> PhoneNumber(1112223333, 'home')\n",
    "    [home] (111) 222-3333\n",
    "    >>> PhoneNumber(\"1112223333\", 'home')\n",
    "    [home] (111) 222-3333\n",
    "    >>> PhoneNumber(\"11112223333\", 'home')\n",
    "    [home] (111) 222-3333\n",
    "    >>> PhoneNumber(\"111-222-3333\", 'home')\n",
    "    [home] (111) 222-3333\n",
    "    >>> PhoneNumber('1-(800)-666-7777', 'office')\n",
    "    [office] (800) 666-7777\n",
    "    >>> PhoneNumber('1 2 3 4 5 6 7 8 9 0', 'home')\n",
    "    [home] (123) 456-7890\n",
    "    \n",
    "    \"\"\"\n",
    "\n",
    "    def __init__(self, number, tag):\n",
    "        number = self._clean_number(number)\n",
    "        self._validate_number(number)\n",
    "        self._number = number\n",
    "        self._area = number[0:3]\n",
    "        self._mid = number[3:6]\n",
    "        self._last = number[6:]\n",
    "        self.tag = tag\n",
    "\n",
    "    def _clean_number(self, number):\n",
    "        number = (str(number)\n",
    "                  .replace(' ', '')\n",
    "                  .replace('-', '')\n",
    "                  .replace('(', '')\n",
    "                  .replace(')', ''))\n",
    "        if len(number) == 11 and number[0] == '1':\n",
    "            number = number[1:]\n",
    "        return number\n",
    "\n",
    "    def _validate_number(self, number):\n",
    "        ndigits = len(number)\n",
    "        if ndigits == 7:\n",
    "            raise NeedAreaCode('for number {}'.format(number))\n",
    "        elif ndigits == 10:\n",
    "            pass\n",
    "        else:\n",
    "            raise InvalidePhoneNumber('for number {}'.format(number))\n",
    "\n",
    "    def __str__(self):\n",
    "        return \"[{}] ({}) {}-{}\".format(self.tag,\n",
    "                                        self._area,\n",
    "                                        self._mid,\n",
    "                                        self._last)\n",
    "\n",
    "    def __repr__(self):\n",
    "        return str(self)\n",
    "\n",
    "    @property\n",
    "    def raw_number(self):\n",
    "        return self._number\n"
   ]
  },
  {
   "cell_type": "code",
   "execution_count": 4,
   "metadata": {
    "collapsed": false
   },
   "outputs": [
    {
     "name": "stdout",
     "output_type": "stream",
     "text": [
      "Trying:\r\n",
      "    from phones import PhoneNumber\r\n",
      "Expecting nothing\r\n",
      "ok\r\n",
      "Trying:\r\n",
      "    PhoneNumber(1112223333, 'home')\r\n",
      "Expecting:\r\n",
      "    [home] (111) 222-3333\r\n",
      "ok\r\n",
      "Trying:\r\n",
      "    PhoneNumber(\"1112223333\", 'home')\r\n",
      "Expecting:\r\n",
      "    [home] (111) 222-3333\r\n",
      "ok\r\n",
      "Trying:\r\n",
      "    PhoneNumber(\"11112223333\", 'home')\r\n",
      "Expecting:\r\n",
      "    [home] (111) 222-3333\r\n",
      "ok\r\n",
      "Trying:\r\n",
      "    number = PhoneNumber(\"111-222-3333\", 'home')\r\n",
      "Expecting nothing\r\n",
      "ok\r\n",
      "Trying:\r\n",
      "    number\r\n",
      "Expecting:\r\n",
      "    [home] (111) 222-3333\r\n",
      "ok\r\n",
      "Trying:\r\n",
      "    number.raw_number\r\n",
      "Expecting:\r\n",
      "    '1112223333'\r\n",
      "ok\r\n",
      "1 items passed all tests:\r\n",
      "   7 tests in phone_how_to.rst\r\n",
      "7 tests in 1 items.\r\n",
      "7 passed and 0 failed.\r\n",
      "Test passed.\r\n"
     ]
    }
   ],
   "source": [
    "!python -m doctest -v phone_how_to.rst"
   ]
  },
  {
   "cell_type": "markdown",
   "metadata": {},
   "source": [
    "A keen eye will have found tests embedded in the code's docstring. You can run these test in a similar fashion:"
   ]
  },
  {
   "cell_type": "code",
   "execution_count": 5,
   "metadata": {
    "collapsed": false
   },
   "outputs": [
    {
     "name": "stdout",
     "output_type": "stream",
     "text": [
      "Trying:\r\n",
      "    PhoneNumber(1112223333, 'home')\r\n",
      "Expecting:\r\n",
      "    [home] (111) 222-3333\r\n",
      "ok\r\n",
      "Trying:\r\n",
      "    PhoneNumber(\"1112223333\", 'home')\r\n",
      "Expecting:\r\n",
      "    [home] (111) 222-3333\r\n",
      "ok\r\n",
      "Trying:\r\n",
      "    PhoneNumber(\"11112223333\", 'home')\r\n",
      "Expecting:\r\n",
      "    [home] (111) 222-3333\r\n",
      "ok\r\n",
      "Trying:\r\n",
      "    PhoneNumber(\"111-222-3333\", 'home')\r\n",
      "Expecting:\r\n",
      "    [home] (111) 222-3333\r\n",
      "ok\r\n",
      "Trying:\r\n",
      "    PhoneNumber('1-(800)-666-7777', 'office')\r\n",
      "Expecting:\r\n",
      "    [office] (800) 666-7777\r\n",
      "ok\r\n",
      "Trying:\r\n",
      "    PhoneNumber('1 2 3 4 5 6 7 8 9 0', 'home')\r\n",
      "Expecting:\r\n",
      "    [home] (123) 456-7890\r\n",
      "ok\r\n",
      "9 items had no tests:\r\n",
      "    phones\r\n",
      "    phones.InvalidePhoneNumber\r\n",
      "    phones.NeedAreaCode\r\n",
      "    phones.PhoneNumber.__init__\r\n",
      "    phones.PhoneNumber.__repr__\r\n",
      "    phones.PhoneNumber.__str__\r\n",
      "    phones.PhoneNumber._clean_number\r\n",
      "    phones.PhoneNumber._validate_number\r\n",
      "    phones.PhoneNumber.raw_number\r\n",
      "1 items passed all tests:\r\n",
      "   6 tests in phones.PhoneNumber\r\n",
      "6 tests in 10 items.\r\n",
      "6 passed and 0 failed.\r\n",
      "Test passed.\r\n"
     ]
    }
   ],
   "source": [
    "!python -m doctest -v phones.py"
   ]
  },
  {
   "cell_type": "markdown",
   "metadata": {},
   "source": [
    "The annoying thing about docstring doctests is that they each have their own context, so any 'setUp' needs to be done repeatedly for each docstring. This is not the case for the document based doctests. For further reading, there's a really good [module-of-the-week](http://pymotw.com/2/doctest/) summary of the `doctest` module.\n",
    "\n",
    "So now that I have decent `doctest` exposure, what else would I present in a tutorial?\n",
    "\n",
    "Well, for a list of utilities I would cover:\n",
    "\n",
    "* [doctest](https://docs.python.org/2/library/doctest.html)\n",
    "* [unittest](https://docs.python.org/2/library/unittest.html)\n",
    "* [mock](https://github.com/testing-cabal/mock)\n",
    "* [coverage](http://coverage.readthedocs.org/en/coverage-4.0b1/)\n",
    "* [nose](https://nose.readthedocs.org/en/latest/)\n",
    "* [pytest](http://pytest.org/latest/)\n",
    "* [behave](http://pythonhosted.org/behave/)\n",
    "* [ddt](careers.stackoverflow.com)\n",
    "* [faker](http://www.joke2k.net/faker/)\n",
    "\n",
    "For concepts, it would be just the basics (and I would probably make Ned's talk a prerequeset):\n",
    "\n",
    "* unit testing\n",
    "* regression tests\n",
    "* test coverage\n",
    "* mocking\n",
    "* test driven development (test first)\n",
    "* behavior driven development\n",
    "* continuous integration\n",
    "\n",
    "Those lists are long, so I can already see this will be a two parter :)"
   ]
  }
 ],
 "metadata": {
  "kernelspec": {
   "display_name": "Python 2",
   "language": "python",
   "name": "python2"
  },
  "language_info": {
   "codemirror_mode": {
    "name": "ipython",
    "version": 2
   },
   "file_extension": ".py",
   "mimetype": "text/x-python",
   "name": "python",
   "nbconvert_exporter": "python",
   "pygments_lexer": "ipython2",
   "version": "2.7.10"
  }
 },
 "nbformat": 4,
 "nbformat_minor": 0
}
